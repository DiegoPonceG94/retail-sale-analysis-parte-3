{
  "nbformat": 4,
  "nbformat_minor": 0,
  "metadata": {
    "colab": {
      "provenance": []
    },
    "kernelspec": {
      "name": "python3",
      "display_name": "Python 3"
    },
    "language_info": {
      "name": "python"
    }
  },
  "cells": [
    {
      "cell_type": "code",
      "execution_count": null,
      "metadata": {
        "id": "JtW9epJKQOLM"
      },
      "outputs": [],
      "source": [
        "# Notebook: Análisis Exploratorio de Ventas\n",
        "\n",
        "# Paso 1: Importar librerías\n",
        "import numpy as np\n",
        "import pandas as pd\n",
        "import matplotlib.pyplot as plt\n",
        "import seaborn as sns\n"
      ]
    },
    {
      "cell_type": "code",
      "source": [
        "# Paso 2: Cargar los datos desde el archivo CSV\n",
        "ruta_archivo = '../data/retail_sales_analysis.csv'\n",
        "datos = np.genfromtxt(ruta_archivo, delimiter=',', dtype=str, skip_header=1)\n",
        "\n"
      ],
      "metadata": {
        "id": "JgE9k3cFQOlN"
      },
      "execution_count": null,
      "outputs": []
    },
    {
      "cell_type": "code",
      "source": [
        "# Paso 3: Definir los encabezados manualmente\n",
        "headers = ['Transaction ID', 'Date', 'Customer ID', 'Gender', 'Age', 'Product Category', 'Quantity', 'Price per Unit', 'Total Amount']\n",
        "\n",
        "# Convertir a DataFrame\n",
        "df = pd.DataFrame(datos, columns=headers)\n",
        "\n",
        "# Convertir tipos de datos\n",
        "df['Total Amount'] = pd.to_numeric(df['Total Amount'], errors='coerce')\n",
        "df['Quantity'] = pd.to_numeric(df['Quantity'], errors='coerce')\n",
        "df['Price per Unit'] = pd.to_numeric(df['Price per Unit'], errors='coerce')\n",
        "df['Age'] = pd.to_numeric(df['Age'], errors='coerce')\n",
        "df['Date'] = pd.to_datetime(df['Date'], errors='coerce')\n",
        "df = df.dropna()\n",
        "\n",
        "\n"
      ],
      "metadata": {
        "id": "9sbhmcLNQOrO"
      },
      "execution_count": null,
      "outputs": []
    },
    {
      "cell_type": "code",
      "source": [
        "# Paso 4: Transformación de Datos\n",
        "# Crear columna de ingreso total por venta (redundante en este caso, pero ilustrativo)\n",
        "df['Calculated Total'] = df['Quantity'] * df['Price per Unit']\n",
        "\n",
        "# Normalizar las ventas (Total Amount)\n",
        "df['Normalized Total'] = (df['Total Amount'] - df['Total Amount'].mean()) / df['Total Amount'].std()\n",
        "\n",
        "# Clasificar ventas en categorías\n",
        "conditions = [\n",
        "    df['Total Amount'] >= df['Total Amount'].quantile(0.75),\n",
        "    df['Total Amount'] >= df['Total Amount'].quantile(0.25),\n",
        "    df['Total Amount'] < df['Total Amount'].quantile(0.25)\n",
        "]\n",
        "choices = ['Alta', 'Media', 'Baja']\n",
        "df['Venta Categoria'] = np.select(conditions, choices, default='Desconocido')\n",
        "\n"
      ],
      "metadata": {
        "id": "5F1t04wKQOva"
      },
      "execution_count": null,
      "outputs": []
    },
    {
      "cell_type": "code",
      "source": [
        "# Paso 5: Agrupación y Agregación\n",
        "# Agrupar por producto y fecha (mes)\n",
        "df['Mes'] = df['Date'].dt.to_period('M')\n",
        "grupo_producto_mes = df.groupby(['Product Category', 'Mes'])['Total Amount'].agg(['sum', 'mean', 'count', 'min', 'max', 'std', 'var'])\n",
        "\n"
      ],
      "metadata": {
        "id": "c3I5sP5aQOzE"
      },
      "execution_count": null,
      "outputs": []
    },
    {
      "cell_type": "code",
      "source": [
        "# Paso 6: Análisis Personalizado con apply\n",
        "# Desviación de cada venta respecto a la media de su grupo por categoría\n",
        "media_por_categoria = df.groupby('Product Category')['Total Amount'].transform('mean')\n",
        "df['Desviacion de la Media'] = df['Total Amount'] - media_por_categoria\n",
        "\n",
        "# Mostrar resultados\n",
        "print(\"Primeras filas del DataFrame transformado:\")\n",
        "print(df.head())\n",
        "print(\"\\nAgrupación por categoría y mes:\")\n",
        "print(grupo_producto_mes.head())"
      ],
      "metadata": {
        "id": "ndFqb0huQO2w"
      },
      "execution_count": null,
      "outputs": []
    }
  ]
}